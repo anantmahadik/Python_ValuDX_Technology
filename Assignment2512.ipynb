{
 "cells": [
  {
   "cell_type": "code",
   "execution_count": 1,
   "id": "d789d1e7",
   "metadata": {},
   "outputs": [
    {
     "name": "stdout",
     "output_type": "stream",
     "text": [
      "Numbers divisible by 2: [2, 4, 6, 8, 10]\n",
      "Numbers not divisible by 2: [1, 3, 5, 7, 9]\n"
     ]
    }
   ],
   "source": [
    "result_list_div_by_two = []\n",
    "result_list_div_by_not_two = []\n",
    "\n",
    "input_list = [1, 2, 3, 4, 5, 6, 7, 8, 9, 10]\n",
    "\n",
    "for number in input_list:\n",
    "    if number % 2 == 0:\n",
    "        result_list_div_by_two.append(number)\n",
    "    else:\n",
    "        result_list_div_by_not_two.append(number)\n",
    "\n",
    "print(\"Numbers divisible by 2:\", result_list_div_by_two)\n",
    "print(\"Numbers not divisible by 2:\", result_list_div_by_not_two)\n"
   ]
  },
  {
   "cell_type": "code",
   "execution_count": 2,
   "id": "e63836b7",
   "metadata": {},
   "outputs": [
    {
     "name": "stdout",
     "output_type": "stream",
     "text": [
      "1\n",
      "2\n",
      "3\n",
      "4\n",
      "6\n",
      "7\n",
      "8\n",
      "9\n",
      "10\n"
     ]
    }
   ],
   "source": [
    "i = 0\n",
    "while i < 10:\n",
    "    i+=1\n",
    "    if i == 5:\n",
    "        continue\n",
    "    else:\n",
    "        print(i)"
   ]
  },
  {
   "cell_type": "code",
   "execution_count": null,
   "id": "9f70b383",
   "metadata": {},
   "outputs": [],
   "source": []
  }
 ],
 "metadata": {
  "kernelspec": {
   "display_name": "Python 3 (ipykernel)",
   "language": "python",
   "name": "python3"
  },
  "language_info": {
   "codemirror_mode": {
    "name": "ipython",
    "version": 3
   },
   "file_extension": ".py",
   "mimetype": "text/x-python",
   "name": "python",
   "nbconvert_exporter": "python",
   "pygments_lexer": "ipython3",
   "version": "3.11.5"
  }
 },
 "nbformat": 4,
 "nbformat_minor": 5
}
