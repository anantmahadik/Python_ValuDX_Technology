{
 "cells": [
  {
   "cell_type": "code",
   "execution_count": 1,
   "id": "808902b4",
   "metadata": {},
   "outputs": [
    {
     "name": "stdout",
     "output_type": "stream",
     "text": [
      "Hello World\n"
     ]
    }
   ],
   "source": [
    " str1 = \"Hello\"\n",
    "str2 = \"World\"\n",
    "result = str1 + \" \" + str2\n",
    "print(result)  # Output: Hello World\n"
   ]
  },
  {
   "cell_type": "code",
   "execution_count": 2,
   "id": "8f77e309",
   "metadata": {},
   "outputs": [
    {
     "name": "stdout",
     "output_type": "stream",
     "text": [
      "abcabcabc\n"
     ]
    }
   ],
   "source": [
    "str3 = \"abc\"\n",
    "result2 = str3 * 3\n",
    "print(result2)  # Output: abcabcabc\n"
   ]
  },
  {
   "cell_type": "code",
   "execution_count": 3,
   "id": "0e976424",
   "metadata": {},
   "outputs": [
    {
     "name": "stdout",
     "output_type": "stream",
     "text": [
      "P\n",
      "y\n"
     ]
    }
   ],
   "source": [
    "my_string = \"Python\"\n",
    "print(my_string[0])  # Output: P\n",
    "print(my_string[1])  # Output: y\n"
   ]
  },
  {
   "cell_type": "code",
   "execution_count": 4,
   "id": "ff0453e9",
   "metadata": {},
   "outputs": [
    {
     "name": "stdout",
     "output_type": "stream",
     "text": [
      "Hello\n"
     ]
    }
   ],
   "source": [
    "my_string = \"Hello World\"\n",
    "substring = my_string[0:5]\n",
    "print(substring)  # Output: Hello\n"
   ]
  },
  {
   "cell_type": "code",
   "execution_count": 5,
   "id": "015a4df6",
   "metadata": {},
   "outputs": [
    {
     "name": "stdout",
     "output_type": "stream",
     "text": [
      "6\n"
     ]
    }
   ],
   "source": [
    "my_string = \"Python\"\n",
    "length = len(my_string)\n",
    "print(length)  # Output: 6\n"
   ]
  },
  {
   "cell_type": "code",
   "execution_count": 6,
   "id": "93e96de5",
   "metadata": {},
   "outputs": [
    {
     "name": "stdout",
     "output_type": "stream",
     "text": [
      "hello\n",
      "HELLO\n"
     ]
    }
   ],
   "source": [
    "my_string = \"Hello\"\n",
    "print(my_string.lower())  # Output: hello\n",
    "print(my_string.upper())  # Output: HELLO\n"
   ]
  },
  {
   "cell_type": "code",
   "execution_count": 7,
   "id": "86cb84bb",
   "metadata": {},
   "outputs": [
    {
     "name": "stdout",
     "output_type": "stream",
     "text": [
      "Hello\n"
     ]
    }
   ],
   "source": [
    "my_string = \"   Hello   \"\n",
    "stripped_string = my_string.strip()\n",
    "print(stripped_string)  # Output: Hello\n"
   ]
  },
  {
   "cell_type": "code",
   "execution_count": 8,
   "id": "377194eb",
   "metadata": {},
   "outputs": [
    {
     "name": "stdout",
     "output_type": "stream",
     "text": [
      "Hello Universe\n"
     ]
    }
   ],
   "source": [
    "my_string = \"Hello World\"\n",
    "new_string = my_string.replace(\"World\", \"Universe\")\n",
    "print(new_string)  # Output: Hello Universe\n"
   ]
  },
  {
   "cell_type": "code",
   "execution_count": 9,
   "id": "c81c557f",
   "metadata": {},
   "outputs": [
    {
     "name": "stdout",
     "output_type": "stream",
     "text": [
      "0\n",
      "2\n"
     ]
    }
   ],
   "source": [
    "my_string = \"Python is easy. Python is fun.\"\n",
    "print(my_string.find(\"Python\"))  # Output: 0\n",
    "print(my_string.count(\"Python\"))  # Output: 2\n"
   ]
  },
  {
   "cell_type": "code",
   "execution_count": 10,
   "id": "5b831633",
   "metadata": {},
   "outputs": [
    {
     "name": "stdout",
     "output_type": "stream",
     "text": [
      "My name is Alice and I am 25 years old.\n"
     ]
    }
   ],
   "source": [
    "name = \"Alice\"\n",
    "age = 25\n",
    "formatted_string = \"My name is {} and I am {} years old.\".format(name, age)\n",
    "print(formatted_string)\n",
    "# Output: My name is Alice and I am 25 years old.\n"
   ]
  },
  {
   "cell_type": "code",
   "execution_count": 17,
   "id": "c42519f2",
   "metadata": {},
   "outputs": [
    {
     "name": "stdout",
     "output_type": "stream",
     "text": [
      "<class 'str'>\n",
      "['wellcome', 'in', 'world', 'of', 'computer'] <class 'list'>\n",
      "WELLCOME\n",
      "IN\n",
      "WORLD\n",
      "OF\n",
      "COMPUTER\n"
     ]
    }
   ],
   "source": [
    "str = \"wellcome in world of computer\"\n",
    "print(type(str))\n",
    "li=str.split(\" \")\n",
    "print(li,end=\" \")\n",
    "print(type(li))\n",
    "\n",
    "for i in li:\n",
    "    print(i.upper())"
   ]
  },
  {
   "cell_type": "code",
   "execution_count": 18,
   "id": "4780c8ec",
   "metadata": {},
   "outputs": [
    {
     "name": "stdout",
     "output_type": "stream",
     "text": [
      "ram shyam\n"
     ]
    }
   ],
   "source": [
    "# end =\" \" \n",
    "\n",
    "a=\"ram\"\n",
    "b=\"shyam\"\n",
    "print(a,end=\" \")\n",
    "print(b)"
   ]
  },
  {
   "cell_type": "code",
   "execution_count": 24,
   "id": "2ead8e51",
   "metadata": {},
   "outputs": [
    {
     "name": "stdout",
     "output_type": "stream",
     "text": [
      "enter data2\n",
      "2 <class 'str'>\n",
      "enter data2\n",
      "2 <class 'int'>\n",
      "enter data2\n",
      "2 <class 'int'>\n"
     ]
    }
   ],
   "source": [
    "# casting \n",
    "\n",
    "a=input(\"enter data\")\n",
    "print(a,type(a))\n",
    "\n",
    "a=int(input(\"enter data\"))\n",
    "print(a,type(a))\n",
    "\n",
    "a=eval(input(\"enter data\"))\n",
    "print(a,type(a))"
   ]
  },
  {
   "cell_type": "markdown",
   "id": "739aeada",
   "metadata": {},
   "source": [
    "\n"
   ]
  },
  {
   "cell_type": "code",
   "execution_count": 25,
   "id": "edf8b959",
   "metadata": {},
   "outputs": [
    {
     "name": "stdout",
     "output_type": "stream",
     "text": [
      "olleH\n"
     ]
    }
   ],
   "source": [
    "original_string = \"Hello\"\n",
    "reversed_string = original_string[::-1]\n",
    "print(reversed_string)  # Output: olleH\n"
   ]
  },
  {
   "cell_type": "code",
   "execution_count": null,
   "id": "96cfc85d",
   "metadata": {},
   "outputs": [],
   "source": []
  }
 ],
 "metadata": {
  "kernelspec": {
   "display_name": "Python 3 (ipykernel)",
   "language": "python",
   "name": "python3"
  },
  "language_info": {
   "codemirror_mode": {
    "name": "ipython",
    "version": 3
   },
   "file_extension": ".py",
   "mimetype": "text/x-python",
   "name": "python",
   "nbconvert_exporter": "python",
   "pygments_lexer": "ipython3",
   "version": "3.11.5"
  }
 },
 "nbformat": 4,
 "nbformat_minor": 5
}
