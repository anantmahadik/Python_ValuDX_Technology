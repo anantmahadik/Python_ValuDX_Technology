{
 "cells": [
  {
   "cell_type": "code",
   "execution_count": 1,
   "id": "b53c2c3c",
   "metadata": {},
   "outputs": [
    {
     "ename": "SyntaxError",
     "evalue": "(unicode error) 'unicodeescape' codec can't decode bytes in position 2-3: truncated \\UXXXXXXXX escape (3002371193.py, line 4)",
     "output_type": "error",
     "traceback": [
      "\u001b[1;36m  Cell \u001b[1;32mIn[1], line 4\u001b[1;36m\u001b[0m\n\u001b[1;33m    excel_file_path = 'C:\\Users\\Lenovo\\Desktop\\Python\\file1.xlsx'\u001b[0m\n\u001b[1;37m                                                                 ^\u001b[0m\n\u001b[1;31mSyntaxError\u001b[0m\u001b[1;31m:\u001b[0m (unicode error) 'unicodeescape' codec can't decode bytes in position 2-3: truncated \\UXXXXXXXX escape\n"
     ]
    }
   ],
   "source": [
    "import pandas as pd\n",
    "\n",
    "# Specify the path to your Excel file\n",
    "excel_file_path = 'C:\\Users\\Lenovo\\Desktop\\Python\\file1.xlsx'\n",
    "excel_file_path2 = 'C:\\Users\\Lenovo\\Desktop\\Python\\file2.xlsx'\n",
    "excel_file_path_newfile = 'C:\\Users\\Lenovo\\Desktop\\Python\\file5.xlsx'\n",
    "\n",
    "\n",
    "\n",
    "# Read the Excel file into a DataFrame\n",
    "try:\n",
    "    # Read only the specified sheet\n",
    "        df1 = pd.read_excel(excel_file_path)\n",
    "        df2 = pd.read_excel(excel_file_path2)\n",
    "        df3 = pd.dataFrame()\n",
    "        \n",
    "\n",
    "    \n",
    "except FileNotFoundError:\n",
    "    print(f\"Error: The file '{excel_file_path}' was not found.\")\n",
    "except pd.errors.EmptyDataError:\n",
    "    print(f\"Error: The file '{excel_file_path}' is empty.\")\n",
    "except pd.errors.ParserError:\n",
    "    print(f\"Error: Unable to parse the contents of the file '{excel_file_path}'.\")\n",
    "except Exception as e:\n",
    "    print(f\"An unexpected error occurred: {e}\")\n"
   ]
  },
  {
   "cell_type": "code",
   "execution_count": 3,
   "id": "e44c4c4f",
   "metadata": {},
   "outputs": [
    {
     "name": "stdout",
     "output_type": "stream",
     "text": [
      "Contents of the Excel file:\n",
      "          Region     Revenue\n",
      "0     John Smith      100000\n",
      "1  Pooja Akolkar     2000000\n",
      "2     David Lee      3000000\n",
      "3   Sarah Brown     40000000\n",
      "4  Michael Chen     50000000\n",
      "5   Emily Davis     30000000\n",
      "6  Brian Wilson    200000000\n",
      "7  Jessica Clark  4000000000\n",
      "8   Kevin Adams     30000000\n",
      "9  Laura Miller     40000000\n"
     ]
    }
   ],
   "source": [
    "import pandas as pd\n",
    "\n",
    "# Specify the path to your Excel file\n",
    "excel_file_path = r'C:\\Users\\Lenovo\\Desktop\\Python\\file1.xlsx'\n",
    "\n",
    "# Read the Excel file into a DataFrame\n",
    "try:\n",
    "    df = pd.read_excel(excel_file_path)\n",
    "    \n",
    "    # Display the contents of the DataFrame\n",
    "    print(\"Contents of the Excel file:\")\n",
    "    print(df)\n",
    "    \n",
    "except FileNotFoundError:\n",
    "    print(f\"Error: The file '{excel_file_path}' was not found.\")\n",
    "except pd.errors.EmptyDataError:\n",
    "    print(f\"Error: The file '{excel_file_path}' is empty.\")\n",
    "except pd.errors.ParserError:\n",
    "    print(f\"Error: Unable to parse the contents of the file '{excel_file_path}'.\")\n",
    "except Exception as e:\n",
    "    print(f\"An unexpected error occurred: {e}\")\n"
   ]
  },
  {
   "cell_type": "code",
   "execution_count": 10,
   "id": "770776c6",
   "metadata": {},
   "outputs": [
    {
     "name": "stdout",
     "output_type": "stream",
     "text": [
      "An unexpected error occurred: name 'sheet2' is not defined\n"
     ]
    }
   ],
   "source": [
    "import pandas as pd\n",
    "\n",
    "# Specify the path to your Excel file\n",
    "excel_file_path = r'C:\\Users\\Lenovo\\Desktop\\Python\\file1.xlsx'\n",
    "excel_file_path2 = r'C:\\Users\\Lenovo\\Desktop\\Python\\file2.xlsx'\n",
    "excel_file_path_newfile = r'C:\\Users\\Lenovo\\Desktop\\Python\\file5.xlsx'\n",
    "\n",
    "\n",
    "# Read the Excel file into a DataFrame\n",
    "try:\n",
    "    df1 = pd.read_excel(excel_file_path)\n",
    "    df2 = pd.read_excel(excel_file_path2,sheet_name=sheet2)\n",
    "    \n",
    "    #df3 = pd\n",
    "    \n",
    "    # Display the contents of the DataFrame\n",
    "    print(\"Contents of the Excel file:\")\n",
    "    print(df1)\n",
    "    print(df2)\n",
    "    \n",
    "except FileNotFoundError:\n",
    "    print(f\"Error: The file '{excel_file_path}' was not found.\")\n",
    "except pd.errors.EmptyDataError:\n",
    "    print(f\"Error: The file '{excel_file_path}' is empty.\")\n",
    "except pd.errors.ParserError:\n",
    "    print(f\"Error: Unable to parse the contents of the file '{excel_file_path}'.\")\n",
    "except Exception as e:\n",
    "    print(f\"An unexpected error occurred: {e}\")"
   ]
  },
  {
   "cell_type": "code",
   "execution_count": null,
   "id": "9c3938cc",
   "metadata": {},
   "outputs": [],
   "source": []
  }
 ],
 "metadata": {
  "kernelspec": {
   "display_name": "Python 3 (ipykernel)",
   "language": "python",
   "name": "python3"
  },
  "language_info": {
   "codemirror_mode": {
    "name": "ipython",
    "version": 3
   },
   "file_extension": ".py",
   "mimetype": "text/x-python",
   "name": "python",
   "nbconvert_exporter": "python",
   "pygments_lexer": "ipython3",
   "version": "3.11.5"
  }
 },
 "nbformat": 4,
 "nbformat_minor": 5
}
