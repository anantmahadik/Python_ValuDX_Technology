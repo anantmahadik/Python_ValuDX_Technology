{
 "cells": [
  {
   "cell_type": "code",
   "execution_count": 1,
   "id": "7a324f86",
   "metadata": {},
   "outputs": [
    {
     "name": "stdout",
     "output_type": "stream",
     "text": [
      "even\n"
     ]
    }
   ],
   "source": [
    "# ifelse\n",
    "\n",
    "a=24\n",
    "\n",
    "if a%2 == 0:\n",
    "    print(\"even\")\n",
    "else:\n",
    "    print(\"odd\")"
   ]
  },
  {
   "cell_type": "code",
   "execution_count": 42,
   "id": "9f4e4279",
   "metadata": {},
   "outputs": [
    {
     "name": "stdout",
     "output_type": "stream",
     "text": [
      "Enter the value: 5\n",
      "The shape with 5 sides is c.\n"
     ]
    }
   ],
   "source": [
    "a = eval(input(\"Enter the value: \"))\n",
    "\n",
    "shape_name = {\n",
    "    3: \"a\",\n",
    "    4: \"b\",\n",
    "    5: \"c\",\n",
    "    6: \"d\",\n",
    "    7: \"e\",\n",
    "    8: \"f\",\n",
    "    9: \"g\",\n",
    "    10: \"h\",\n",
    "}\n",
    "\n",
    "if a in shape_name:\n",
    "    print(f\"The shape with {a} sides is {shape_name[a]}.\")\n",
    "else:\n",
    "    print(\"Invalid input. Please enter a number of sides between 3 and 10.\")\n"
   ]
  },
  {
   "cell_type": "code",
   "execution_count": 40,
   "id": "a0d542d0",
   "metadata": {},
   "outputs": [
    {
     "name": "stdout",
     "output_type": "stream",
     "text": [
      "Enter the value 2\n",
      "2\n"
     ]
    }
   ],
   "source": [
    "# fizz / buzz\n",
    "\n",
    "a=eval(input(\"Enter the value \"))\n",
    "\n",
    "if a%3==0 and a%5!=0:\n",
    "    print(\"Fizz\")\n",
    "if a%5==0 and a%3!=0:\n",
    "    print(\"Buzz\")\n",
    "if a%3==0 and a%5==0:\n",
    "    print(\"FizzBuzz\")\n",
    "if a%3!=3 and a%5!=0:\n",
    "    print(a)\n",
    "    \n",
    " \n"
   ]
  },
  {
   "cell_type": "markdown",
   "id": "5c122896",
   "metadata": {},
   "source": []
  },
  {
   "cell_type": "markdown",
   "id": "3425f64b",
   "metadata": {},
   "source": []
  },
  {
   "cell_type": "code",
   "execution_count": null,
   "id": "ada7e298",
   "metadata": {},
   "outputs": [],
   "source": []
  }
 ],
 "metadata": {
  "kernelspec": {
   "display_name": "Python 3 (ipykernel)",
   "language": "python",
   "name": "python3"
  },
  "language_info": {
   "codemirror_mode": {
    "name": "ipython",
    "version": 3
   },
   "file_extension": ".py",
   "mimetype": "text/x-python",
   "name": "python",
   "nbconvert_exporter": "python",
   "pygments_lexer": "ipython3",
   "version": "3.11.5"
  }
 },
 "nbformat": 4,
 "nbformat_minor": 5
}
