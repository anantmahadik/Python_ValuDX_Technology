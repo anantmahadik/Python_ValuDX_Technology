{
 "cells": [
  {
   "cell_type": "code",
   "execution_count": 2,
   "id": "7abd3135",
   "metadata": {},
   "outputs": [
    {
     "name": "stdout",
     "output_type": "stream",
     "text": [
      "Enter month: a\n",
      "Enter temp: 10\n",
      "Enter temp: 20\n",
      "Enter month: f\n",
      "Enter temp: 15\n",
      "Enter temp: 25\n",
      "Enter month: m\n",
      "Enter temp: 20\n",
      "Enter temp: 30\n",
      "[['a', 10, 20], ['f', 15, 25], ['m', 20, 30]]\n",
      "Month is a with the minimum temperature of 10.\n",
      "Month is m with the maximum temperature of 30.\n"
     ]
    }
   ],
   "source": [
    "data = []\n",
    "\n",
    "for i in range(0, 3):\n",
    "    temp = []\n",
    "    name = input(\"Enter month: \")\n",
    "    temp.append(name)\n",
    "    for k in range(0, 2):\n",
    "        m = int(input(\"Enter temp: \"))\n",
    "        temp.append(m)\n",
    "    data.append(temp)\n",
    "\n",
    "print(data)\n",
    "\n",
    "# Using min() and max() functions with a lambda function as the key\n",
    "min_entry = min(data, key=lambda x: x[1])\n",
    "max_entry = max(data, key=lambda x: x[2])\n",
    "\n",
    "min_month, min_temp = min_entry[0], min_entry[1]\n",
    "max_month, max_temp = max_entry[0], max_entry[2]\n",
    "\n",
    "print(f\"Month is {min_month} with the minimum temperature of {min_temp}.\")\n",
    "print(f\"Month is {max_month} with the maximum temperature of {max_temp}.\")\n"
   ]
  },
  {
   "cell_type": "code",
   "execution_count": 6,
   "id": "2d641864",
   "metadata": {},
   "outputs": [
    {
     "name": "stdout",
     "output_type": "stream",
     "text": [
      "{'a': 100, 'b': 2000, 'c': 3000}\n",
      "100\n"
     ]
    }
   ],
   "source": [
    "#dict with functions\n",
    "\n",
    "dict = {'a':100,'b':2000,'c':3000}\n",
    "\n",
    "print(dict)\n",
    "print(dict.get('a'))"
   ]
  },
  {
   "cell_type": "code",
   "execution_count": 10,
   "id": "68214919",
   "metadata": {},
   "outputs": [
    {
     "name": "stdout",
     "output_type": "stream",
     "text": [
      "Enter name : a\n",
      "Enter marks : 90\n",
      "Enter name : b\n",
      "Enter marks : 80\n",
      "Enter name : c\n",
      "Enter marks : 70\n",
      "{'a': 90, 'b': 80, 'c': 70}\n",
      "['a', 'b', 'c']\n"
     ]
    }
   ],
   "source": [
    "#ass 2 creat a dict for student and marks\n",
    "\n",
    "dict = {}\n",
    "name = ''\n",
    "marks = 0\n",
    "\n",
    "for i in range(0,3):\n",
    "    name = (input(\"Enter name : \"))\n",
    "    \n",
    "    marks = int(input(\"Enter marks : \"))\n",
    "    dict[name]=marks\n",
    "print(dict)\n",
    "\n",
    "print(sorted(dict))\n",
    "        \n"
   ]
  },
  {
   "cell_type": "code",
   "execution_count": null,
   "id": "5bae5e75",
   "metadata": {},
   "outputs": [],
   "source": [
    "#Ass 3\n",
    "\n",
    "teledict = {'acount':1001,'hr':1002,'it':1003,'venders':1005}\n",
    "\n",
    "def display_menu():\n",
    "    print(\"A. Look up telephone number\")\n",
    "    print(\"B. Add new telephone number\")\n",
    "    print(\"C. Edit telephone number\")\n",
    "    print(\"D. Delete telephone number\")\n",
    "    print(\"E . Print phone directry in sequence\")\n",
    "    print(\"F. Exit\")\n",
    "\n",
    "def look_up_number():\n",
    "    name = input(\"Enter the name to look up: \")\n",
    "    if name in teledict:\n",
    "        print(f\"telephone number for {name}: {teledict[name]}\")\n",
    "    else:\n",
    "        print(f\"{name} not found.\")\n",
    "        \n",
    "def add_number():\n",
    "    name = input(\"Enter the name: \")\n",
    "    number = input(\"Enter the telephone number: \")\n",
    "    teledict[name] = number\n",
    "    print(f\"Telephone number for {name} added successfully.\")\n",
    "\n",
    "while True:\n",
    "    display_menu()\n",
    "    choice = input(\"Enter your choice (A-F): \")\n",
    "\n",
    "    if choice == 'A':\n",
    "        look_up_number()\n",
    "    elif choice == 'B':\n",
    "        add_number()\n",
    "    elif choice == 'F':\n",
    "        print(\"Exiting the program.\")\n",
    "        break\n",
    "    else:\n",
    "        print(\"Invalid\")\n",
    "\n"
   ]
  },
  {
   "cell_type": "code",
   "execution_count": null,
   "id": "b5add138",
   "metadata": {},
   "outputs": [],
   "source": []
  }
 ],
 "metadata": {
  "kernelspec": {
   "display_name": "Python 3 (ipykernel)",
   "language": "python",
   "name": "python3"
  },
  "language_info": {
   "codemirror_mode": {
    "name": "ipython",
    "version": 3
   },
   "file_extension": ".py",
   "mimetype": "text/x-python",
   "name": "python",
   "nbconvert_exporter": "python",
   "pygments_lexer": "ipython3",
   "version": "3.11.5"
  }
 },
 "nbformat": 4,
 "nbformat_minor": 5
}
