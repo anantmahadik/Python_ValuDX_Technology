{
 "cells": [
  {
   "cell_type": "code",
   "execution_count": null,
   "id": "555ec3ef",
   "metadata": {},
   "outputs": [],
   "source": [
    "# Assignment 1 :  accept number from user and seperate it\n",
    "\n",
    "n = int(input(\"Enter number : \"))\n",
    "\n",
    "while n>0:\n",
    "    rem = n% 10\n",
    "    n = n//10\n",
    "    \n",
    "    print(rem)\n",
    "\n"
   ]
  },
  {
   "cell_type": "code",
   "execution_count": 8,
   "id": "e5b43ccf",
   "metadata": {},
   "outputs": [
    {
     "name": "stdout",
     "output_type": "stream",
     "text": [
      "Enter number : 9\n",
      "kaprikar number\n"
     ]
    }
   ],
   "source": [
    "# Assignment 1 :  accept number from user and check nuber is capricaer number or not\n",
    "\n",
    "n = int(input(\"Enter number : \"))\n",
    "\n",
    "n1 = n*n\n",
    "sum = 0\n",
    "\n",
    "while n1>0:\n",
    "    rem = n1% 10\n",
    "    n1 = n1//10\n",
    "    sum += rem\n",
    "\n",
    "if sum == n:\n",
    "    print(\"kaprikar number\")\n",
    "else:\n",
    "    print(\"not kaprikar\")\n",
    "\n",
    "\n",
    "\n"
   ]
  },
  {
   "cell_type": "code",
   "execution_count": 12,
   "id": "8c93c02d",
   "metadata": {},
   "outputs": [
    {
     "name": "stdout",
     "output_type": "stream",
     "text": [
      "2023-12-29\n",
      "2023\n",
      "12\n",
      "29\n",
      "Age is  23\n"
     ]
    }
   ],
   "source": [
    "#date\n",
    "\n",
    "from datetime import date\n",
    "\n",
    "cdate = date.today()\n",
    "print(cdate)\n",
    "print(cdate.year)\n",
    "print(cdate.month)\n",
    "print(cdate.day)\n",
    "\n",
    "bdate = 2000\n",
    "\n",
    "age = cdate.year-bdate\n",
    "\n",
    "print(\"Age is \",age)\n",
    "\n"
   ]
  },
  {
   "cell_type": "code",
   "execution_count": null,
   "id": "077863b5",
   "metadata": {},
   "outputs": [],
   "source": [
    "#list[]mut,order # tupple()emut,ord  # dict{}key:val # set duplicate not \n",
    "\n",
    "li=[]\n",
    "\n",
    "i = \"\"\n",
    "\n",
    "while i!='0':\n",
    "    i=input(\"enter element : \")\n",
    "    li.append(i)\n",
    "\n",
    "print(li)\n",
    "\n",
    "\n",
    "\n"
   ]
  },
  {
   "cell_type": "code",
   "execution_count": 17,
   "id": "16e43523",
   "metadata": {},
   "outputs": [
    {
     "ename": "NameError",
     "evalue": "name 'true' is not defined",
     "output_type": "error",
     "traceback": [
      "\u001b[1;31m---------------------------------------------------------------------------\u001b[0m",
      "\u001b[1;31mNameError\u001b[0m                                 Traceback (most recent call last)",
      "Cell \u001b[1;32mIn[17], line 3\u001b[0m\n\u001b[0;32m      1\u001b[0m li\u001b[38;5;241m=\u001b[39m[]\n\u001b[1;32m----> 3\u001b[0m \u001b[38;5;28;01mwhile\u001b[39;00m true:\n\u001b[0;32m      4\u001b[0m     n\u001b[38;5;241m=\u001b[39m\u001b[38;5;28minput\u001b[39m(\u001b[38;5;124m\"\u001b[39m\u001b[38;5;124menter element : \u001b[39m\u001b[38;5;124m\"\u001b[39m)\n\u001b[0;32m      5\u001b[0m     li\u001b[38;5;241m.\u001b[39mappend(n)\n",
      "\u001b[1;31mNameError\u001b[0m: name 'true' is not defined"
     ]
    }
   ],
   "source": [
    "\n",
    "li=[]\n",
    "\n",
    "while :\n",
    "    n=input(\"enter element : \")\n",
    "    li.append(n)\n",
    "    if n == 'end':\n",
    "        break\n",
    "\n",
    "print(li)\n",
    "\n",
    "\n"
   ]
  },
  {
   "cell_type": "code",
   "execution_count": 1,
   "id": "08d8375e",
   "metadata": {},
   "outputs": [
    {
     "name": "stdout",
     "output_type": "stream",
     "text": [
      "Enter name : a\n",
      "Enter name : b\n",
      "Enter name : c\n",
      "Enter name : d\n",
      "Enter name : a\n",
      "Enter name : b\n",
      "Enter name : c\n",
      "Enter name : end\n",
      "a\n",
      "b\n",
      "c\n",
      "d\n"
     ]
    }
   ],
   "source": [
    "# Assignment 3 : get names and print divide 2 names\n",
    "\n",
    "li = []\n",
    "\n",
    "i = \"\"\n",
    "\n",
    "while i != \"end\":\n",
    "    name = input(\"Enter name : \")\n",
    "    li.append(name)\n",
    "    if name == \"end\":\n",
    "        break\n",
    "    \n",
    "#print(li)\n",
    "\n",
    "length = len(li)\n",
    "\n",
    "count = 0\n",
    "\n",
    "while count!= length//2:\n",
    "    \n",
    "    print(li[count])\n",
    "    count+=1\n",
    "\n",
    "\n",
    "\n"
   ]
  },
  {
   "cell_type": "code",
   "execution_count": 3,
   "id": "0b5f9d3c",
   "metadata": {},
   "outputs": [
    {
     "name": "stdout",
     "output_type": "stream",
     "text": [
      "Enter name : a\n",
      "Enter name : b\n",
      "Enter name : c\n",
      "Enter name : d\n",
      "Enter name : a\n",
      "Enter name : b\n",
      "Enter name : end\n"
     ]
    },
    {
     "ename": "TypeError",
     "evalue": "'in <string>' requires string as left operand, not list",
     "output_type": "error",
     "traceback": [
      "\u001b[1;31m---------------------------------------------------------------------------\u001b[0m",
      "\u001b[1;31mTypeError\u001b[0m                                 Traceback (most recent call last)",
      "Cell \u001b[1;32mIn[3], line 26\u001b[0m\n\u001b[0;32m     23\u001b[0m count2 \u001b[38;5;241m=\u001b[39m \u001b[38;5;28mlen\u001b[39m(li2)\n\u001b[0;32m     25\u001b[0m \u001b[38;5;28;01mfor\u001b[39;00m li2 \u001b[38;5;129;01min\u001b[39;00m li:\n\u001b[1;32m---> 26\u001b[0m     \u001b[38;5;28;01mif\u001b[39;00m li \u001b[38;5;129;01mnot\u001b[39;00m \u001b[38;5;129;01min\u001b[39;00m li2:\n\u001b[0;32m     27\u001b[0m         li2\u001b[38;5;241m.\u001b[39mappend(li)\n\u001b[0;32m     28\u001b[0m     \u001b[38;5;28mprint\u001b[39m(li2)\n",
      "\u001b[1;31mTypeError\u001b[0m: 'in <string>' requires string as left operand, not list"
     ]
    }
   ],
   "source": [
    "# Assignment 4 : get name and print name avoide duplicate\n",
    "\n",
    "li = []\n",
    "\n",
    "i = \"\"\n",
    "\n",
    "while i != \"end\":\n",
    "    name = input(\"Enter name : \")\n",
    "\n",
    "    li.append(name)\n",
    "    if name == \"end\":\n",
    "        break\n",
    "    \n",
    "#print(li)\n",
    "\n",
    "length = len(li)\n",
    "\n",
    "\n",
    "count = 0\n",
    "\n",
    "li2 = []\n",
    "\n",
    "count2 = len(li2)\n",
    "\n",
    "for li2 in li:\n",
    "    if li not in li2:\n",
    "        li2.append(li)\n",
    "    print(li2)\n",
    "    "
   ]
  },
  {
   "cell_type": "code",
   "execution_count": 4,
   "id": "b755cccf",
   "metadata": {},
   "outputs": [],
   "source": [
    "#joint list\n",
    "\n",
    "li1=[1,2,3]\n",
    "li2=[4,5,6]\n",
    "\n",
    "li1+=li2\n",
    "\n",
    "li1.extend(li1)\n",
    "\n"
   ]
  },
  {
   "cell_type": "code",
   "execution_count": 17,
   "id": "644cc48c",
   "metadata": {},
   "outputs": [
    {
     "name": "stdout",
     "output_type": "stream",
     "text": [
      "python\n",
      "['c', 'c++', 'java', 'python']\n",
      "['c', 'python', 'java', 'c++']\n",
      "['python', 'java']\n"
     ]
    }
   ],
   "source": [
    "# random funcions choice() sample() shuffle()\n",
    "import random\n",
    "li=['c','c++','java','python']\n",
    "ch =random.choice(li) ## select one randomly\n",
    "print(ch)\n",
    "print(li)\n",
    "\n",
    "sh=random.shuffle(li)  ##shuffle element\n",
    "print(li)\n",
    "\n",
    "\n",
    "l2=[]\n",
    "\n",
    "l2=random.sample(li,2) ## give size of random\n",
    "print(l2)\n"
   ]
  },
  {
   "cell_type": "code",
   "execution_count": 33,
   "id": "654c21c0",
   "metadata": {},
   "outputs": [
    {
     "name": "stdout",
     "output_type": "stream",
     "text": [
      "Enter the lotter numbers : 1\n",
      "Enter the lotter numbers : 2\n",
      "Enter the lotter numbers : 3\n",
      "Enter the lotter numbers : 4\n",
      "Enter the lotter numbers : 5\n",
      "Enter the lotter numbers : 6\n",
      "[1, 13, 15, 14, 12, 6]\n",
      "loss lotery\n"
     ]
    }
   ],
   "source": [
    "# assignment 5 : take 1 to 49 num and select random 6 numbers, get 6 numbers from user and compaire both if all 6 is match put\n",
    "# message lottery win or lottery loss lottery \n",
    "\n",
    "li=[1,2,3,4,5,6,7,8,9,10,11,12,13,14,15,16,17,18,19,20,21,22,23,24,25,26,27,28,29,30,31,32,33,34,35,36,37,38,39,40,41,42,43,44,45,46,47,48,49]\n",
    "\n",
    "\n",
    "l2= random.sample(li,6)\n",
    "li2 = []\n",
    "\n",
    "num = 0\n",
    "\n",
    "for i in range(0,6):\n",
    "        m = input(\"Enter the lotter numbers : \")\n",
    "        li2.append(m)\n",
    "\n",
    "#print(li)\n",
    "print(l2)\n",
    "\n",
    "if li2 == l2:\n",
    "    print(\"win lottery\")\n",
    "else:\n",
    "    print(\"loss lotery\")"
   ]
  },
  {
   "cell_type": "markdown",
   "id": "4a5e2450",
   "metadata": {},
   "source": [
    "l2 = [1,2]\n",
    "li2 = [1,2]\n",
    "\n",
    "if l2 in li2:\n",
    "    print(\"win lottery\")\n",
    "else:\n",
    "    print(\"loss lotery\")"
   ]
  },
  {
   "cell_type": "code",
   "execution_count": 53,
   "id": "af51ae8e",
   "metadata": {},
   "outputs": [
    {
     "name": "stdout",
     "output_type": "stream",
     "text": [
      "loss lotery\n"
     ]
    }
   ],
   "source": [
    "l2 = [1]\n",
    "li2 = [1]\n",
    "\n",
    "if li2 in l2:\n",
    "    print(\"win lottery\")\n",
    "else:\n",
    "    print(\"loss lotery\")"
   ]
  },
  {
   "cell_type": "code",
   "execution_count": 56,
   "id": "d1d3de98",
   "metadata": {},
   "outputs": [
    {
     "name": "stdout",
     "output_type": "stream",
     "text": [
      "a 1 2 3 \n",
      "b 1 2 3 \n",
      "c 1 2 3 \n"
     ]
    }
   ],
   "source": [
    "li= [['a',1,2,3],['b',1,2,3],['c',1,2,3]]\n",
    "\n",
    "for j in range(0,len(li)):\n",
    "    for k in range(0,len(li[j])):\n",
    "        print(li[j][k],end=\" \")\n",
    "    print()"
   ]
  },
  {
   "cell_type": "code",
   "execution_count": null,
   "id": "7e1af24a",
   "metadata": {},
   "outputs": [],
   "source": [
    "final = []\n",
    "\n",
    "for i in range(0,3):\n",
    "    li=[]\n",
    "    name = input(\"enter name : \")\n",
    "    li.append(name)\n",
    "    for j in range(0,3):\n",
    "        m = input(\"enter marks : \")\n",
    "        li.append(m)\n",
    "    final.append(li)\n",
    "print(final)\n",
    "        "
   ]
  },
  {
   "cell_type": "code",
   "execution_count": 1,
   "id": "9e22741d",
   "metadata": {},
   "outputs": [
    {
     "name": "stdout",
     "output_type": "stream",
     "text": [
      "ente monthjan\n",
      "enter temp : 10\n",
      "enter temp : 20\n",
      "ente monthfeb\n",
      "enter temp : 11\n",
      "enter temp : 22\n",
      "ente monthmarch\n",
      "enter temp : 1\n",
      "enter temp : 2\n",
      "ente monthapr\n",
      "enter temp : 1\n",
      "enter temp : 2\n",
      "ente monthmay\n",
      "enter temp : 2\n",
      "enter temp : 3\n",
      "ente monthjun\n",
      "enter temp : 2\n",
      "enter temp : 3\n",
      "ente monthjul\n",
      "enter temp : 2\n",
      "enter temp : 3\n",
      "ente monthaug\n",
      "enter temp : 2\n",
      "enter temp : 3\n",
      "ente monthsept\n",
      "enter temp : 1\n",
      "enter temp : 2\n",
      "ente monthoct\n",
      "enter temp : 2\n",
      "enter temp : 3\n",
      "ente monthnov\n",
      "enter temp : 2\n",
      "enter temp : 3\n",
      "ente monthdec\n",
      "enter temp : 2\n",
      "enter temp : 3\n",
      "['jan', ['10', '20'], 'feb', ['11', '22'], 'march', ['1', '2'], 'apr', ['1', '2'], 'may', ['2', '3'], 'jun', ['2', '3'], 'jul', ['2', '3'], 'aug', ['2', '3'], 'sept', ['1', '2'], 'oct', ['2', '3'], 'nov', ['2', '3'], 'dec', ['2', '3']]\n"
     ]
    }
   ],
   "source": [
    "# ass 6 get 2 d list monthly name with max temp and min temp\n",
    "\n",
    "data = []\n",
    "\n",
    "for i in range(0,12):\n",
    "    temp=[]\n",
    "    name = input(\"ente month\")\n",
    "    temp.append(name)\n",
    "    for k in range(0,2):\n",
    "        m = input(\"enter temp : \")\n",
    "        temp.append(m)\n",
    "    data.append(temp)\n",
    "print(data)\n",
    "        \n",
    "    "
   ]
  },
  {
   "cell_type": "code",
   "execution_count": null,
   "id": "45f2cb4f",
   "metadata": {},
   "outputs": [],
   "source": [
    "data = []\n",
    "\n",
    "for i in range(0, 3):\n",
    "    temp = []\n",
    "    name = input(\"Enter month: \")\n",
    "    temp.append(name)\n",
    "    for k in range(0, 2):\n",
    "        m = int(input(\"Enter temp: \"))\n",
    "        temp.append(m)\n",
    "    data.append(temp)\n",
    "\n",
    "print(data)\n",
    "\n",
    "min_temp = 0\n",
    "max_temp = 0\n",
    "min_month = ''\n",
    "max_month = ''\n",
    "\n",
    "for entry in data:\n",
    "    month = entry[0]\n",
    "    temp = entry[1]\n",
    "\n",
    "    # mini \n",
    "    if temp < min_temp:\n",
    "        min_temp = temp\n",
    "        min_month = month\n",
    "\n",
    "    # max\n",
    "    if temp > max_temp:\n",
    "        max_temp = temp\n",
    "        max_month = month\n",
    "\n",
    "print(f\"month is {min_month} min temp {min_temp} .\")\n",
    "print(f\"month is {max_month} max temp{max_temp}\")\n"
   ]
  },
  {
   "cell_type": "code",
   "execution_count": null,
   "id": "e894ce6c",
   "metadata": {},
   "outputs": [],
   "source": [
    "#Ass 3\n",
    "\n",
    "telephone_directory = {'acount':1001,'hr':1002,'it':1003,'venders':1005}\n",
    "\n",
    "def display_menu():\n",
    "    print(\"1. Look up telephone number\")\n",
    "    print(\"2. Add new telephone number\")\n",
    "    print(\"3. Edit telephone number\")\n",
    "    print(\"4. Delete telephone number\")\n",
    "    print(\"5. Exit\")\n",
    "\n",
    "def look_up_number():\n",
    "    name = input(\"Enter the name to look up: \")\n",
    "    if name in telephone_directory:\n",
    "        print(f\"Telephone number for {name}: {telephone_directory[name]}\")\n",
    "    else:\n",
    "        print(f\"{name} not found in the telephone directory.\")\n",
    "\n",
    "def add_number():\n",
    "    name = input(\"Enter the name: \")\n",
    "    number = input(\"Enter the telephone number: \")\n",
    "    telephone_directory[name] = number\n",
    "    print(f\"Telephone number for {name} added successfully.\")\n",
    "\n",
    "def edit_number():\n",
    "    name = input(\"Enter the name to edit: \")\n",
    "    if name in telephone_directory:\n",
    "        new_number = input(f\"Enter the new telephone number for {name}: \")\n",
    "        telephone_directory[name] = new_number\n",
    "        print(f\"Telephone number for {name} edited successfully.\")\n",
    "    else:\n",
    "        print(f\"{name} not found in the telephone directory.\")\n",
    "\n",
    "def delete_number():\n",
    "    name = input(\"Enter the name to delete: \")\n",
    "    if name in telephone_directory:\n",
    "        del telephone_directory[name]\n",
    "        print(f\"Telephone number for {name} deleted successfully.\")\n",
    "    else:\n",
    "        print(f\"{name} not found in the telephone directory.\")\n",
    "\n",
    "while True:\n",
    "    display_menu()\n",
    "    choice = input(\"Enter your choice (1-5): \")\n",
    "\n",
    "    if choice == '1':\n",
    "        look_up_number()\n",
    "    elif choice == '2':\n",
    "        add_number()\n",
    "    elif choice == '3':\n",
    "        edit_number()\n",
    "    elif choice == '4':\n",
    "        delete_number()\n",
    "    elif choice == '5':\n",
    "        print(\"Exiting the program.\")\n",
    "        break\n",
    "    else:\n",
    "        print(\"Invalid choice. Please enter a number between 1 and 5.\")\n",
    "\n"
   ]
  }
 ],
 "metadata": {
  "kernelspec": {
   "display_name": "Python 3 (ipykernel)",
   "language": "python",
   "name": "python3"
  },
  "language_info": {
   "codemirror_mode": {
    "name": "ipython",
    "version": 3
   },
   "file_extension": ".py",
   "mimetype": "text/x-python",
   "name": "python",
   "nbconvert_exporter": "python",
   "pygments_lexer": "ipython3",
   "version": "3.11.5"
  }
 },
 "nbformat": 4,
 "nbformat_minor": 5
}
