{
 "cells": [
  {
   "cell_type": "code",
   "execution_count": null,
   "id": "0ff335ec",
   "metadata": {},
   "outputs": [],
   "source": [
    "# check 5 length product code is AS AB\n",
    "\n",
    "count_00 = 0\n",
    "count_ab = 0\n",
    "\n",
    "for i in range(0,5):\n",
    "    a = input(\"Enter the product code: \")\n",
    "    if a[0:2]==\"AB\":\n",
    "        count_ab+=1\n",
    "    if a[-2:] == \"00\":\n",
    "        count_00+=1\n",
    "\n",
    "print(\"count ab is\",count_ab)\n",
    "print(\"count 00 is\",count_00)\n",
    "\n"
   ]
  },
  {
   "cell_type": "code",
   "execution_count": 2,
   "id": "81ae2238",
   "metadata": {},
   "outputs": [
    {
     "name": "stdout",
     "output_type": "stream",
     "text": [
      "True\n",
      "True\n"
     ]
    }
   ],
   "source": [
    "\n",
    "p = 'hello world python'\n",
    "c = p.endswith('thon',0,len(p))\n",
    "print(c)\n",
    "\n",
    "\n",
    "p = 'hello world python'\n",
    "c = p.startswith('he',0,len(p))\n",
    "print(c)"
   ]
  },
  {
   "cell_type": "markdown",
   "id": "21fc898a",
   "metadata": {},
   "source": []
  },
  {
   "cell_type": "code",
   "execution_count": 3,
   "id": "a8706620",
   "metadata": {},
   "outputs": [
    {
     "name": "stdout",
     "output_type": "stream",
     "text": [
      "hi\n",
      "hi\n",
      "hi\n"
     ]
    }
   ],
   "source": [
    "\n",
    "for i in range(0,5):\n",
    "    if i ==3:\n",
    "        break\n",
    "    print(\"hi\")\n",
    "\n",
    "\n",
    "    \n"
   ]
  },
  {
   "cell_type": "code",
   "execution_count": 4,
   "id": "b4428700",
   "metadata": {},
   "outputs": [
    {
     "name": "stdout",
     "output_type": "stream",
     "text": [
      "enter namexxs\n",
      "xxs\n",
      "enter namexxx\n",
      "xxx\n"
     ]
    }
   ],
   "source": [
    "while True:\n",
    "    name=input(\"enter name\")\n",
    "    print(name)\n",
    "    if name==\"xxx\":\n",
    "        break\n"
   ]
  },
  {
   "cell_type": "code",
   "execution_count": 18,
   "id": "040cfcad",
   "metadata": {},
   "outputs": [
    {
     "name": "stdout",
     "output_type": "stream",
     "text": [
      "Enter the username: anant_1\n",
      "Enter the password: aana\n",
      "Enter the password: naan\n",
      "Enter the password: anan\n"
     ]
    }
   ],
   "source": [
    "\n",
    "uname = \"anant_1\"\n",
    "password = \"anant@123\"\n",
    "\n",
    "user_name = input(\"Enter the username: \")\n",
    "\n",
    "\n",
    "for i in range(0,3):\n",
    "    if uname == user_name:\n",
    "        user_pass = input(\"Enter the password: \")\n",
    "        if password == user_pass:\n",
    "            \n",
    "            print(\"Username and password are correct.\")\n",
    "            break\n",
    "        else:\n",
    "            #continue\n",
    "            print(\"Username is correct, but password is incorrect.\")\n",
    "            \n",
    "    \n",
    "\n"
   ]
  },
  {
   "cell_type": "code",
   "execution_count": null,
   "id": "03be8c31",
   "metadata": {},
   "outputs": [],
   "source": []
  },
  {
   "cell_type": "code",
   "execution_count": 13,
   "id": "497f03f1",
   "metadata": {},
   "outputs": [
    {
     "name": "stdout",
     "output_type": "stream",
     "text": [
      "enter user nameaa\n",
      "enter user passaa\n",
      "enter user nameaa\n",
      "enter user passaa\n",
      "enter user nameaa\n",
      "enter user passanant@123\n"
     ]
    }
   ],
   "source": [
    "\n",
    "uname = \"anant_1\"\n",
    "password = \"anant@123\"\n",
    "\n",
    "while True:\n",
    "    name=input(\"enter user name : \")\n",
    "    upass=input(\"enter user pass : \")\n",
    "    \n",
    "    if upass==\"anant@123\":\n",
    "        break\n",
    "        \n",
    "    "
   ]
  },
  {
   "cell_type": "code",
   "execution_count": 46,
   "id": "76ed99db",
   "metadata": {},
   "outputs": [
    {
     "name": "stdout",
     "output_type": "stream",
     "text": [
      "random number 76  <==update\n",
      "random number 82  <==update\n",
      "random number 89  <==update\n",
      "random number 22  <==update\n",
      "random number 97  <==update\n",
      "random number 30  <==update\n",
      "random number 20  <==update\n",
      "random number 9  <==update\n",
      "random number 39  <==update\n",
      "random number 4  <==update\n",
      "random number 48  <==update\n",
      "random number 1  <==update\n",
      "random number 28  <==update\n",
      "random number 88  <==update\n",
      "random number 58  <==update\n",
      "random number 52  <==update\n",
      "random number 57  <==update\n",
      "random number 71  <==update\n",
      "random number 9  <==update\n",
      "random number 99  <==update\n",
      "random number 35  <==update\n",
      "random number 13  <==update\n",
      "random number 33  <==update\n",
      "random number 30  <==update\n",
      "random number 93  <==update\n",
      "random number 45  <==update\n",
      "random number 69  <==update\n",
      "random number 48  <==update\n",
      "random number 80  <==update\n",
      "random number 66  <==update\n",
      "random number 91  <==update\n",
      "random number 42  <==update\n",
      "random number 49  <==update\n",
      "random number 31  <==update\n",
      "random number 97  <==update\n",
      "random number 13  <==update\n",
      "random number 69  <==update\n",
      "random number 36  <==update\n",
      "random number 83  <==update\n",
      "random number 29  <==update\n",
      "random number 8  <==update\n",
      "random number 75  <==update\n",
      "random number 94  <==update\n",
      "random number 60  <==update\n",
      "random number 28  <==update\n",
      "random number 4  <==update\n",
      "random number 20  <==update\n",
      "random number 2  <==update\n",
      "random number 67  <==update\n",
      "random number 20  <==update\n",
      "random number 74  <==update\n",
      "random number 69  <==update\n",
      "random number 27  <==update\n",
      "random number 66  <==update\n",
      "random number 89  <==update\n",
      "random number 83  <==update\n",
      "random number 50  <==update\n",
      "random number 67  <==update\n",
      "random number 76  <==update\n",
      "random number 85  <==update\n",
      "random number 88  <==update\n",
      "random number 78  <==update\n",
      "random number 24  <==update\n",
      "random number 64  <==update\n",
      "random number 100  <==update\n",
      "random number 55  <==update\n",
      "random number 67  <==update\n",
      "random number 23  <==update\n",
      "random number 32  <==update\n",
      "random number 12  <==update\n",
      "random number 95  <==update\n",
      "random number 3  <==update\n",
      "random number 79  <==update\n",
      "random number 95  <==update\n",
      "random number 97  <==update\n",
      "random number 65  <==update\n",
      "random number 60  <==update\n",
      "random number 99  <==update\n",
      "random number 72  <==update\n",
      "random number 30  <==update\n",
      "random number 23  <==update\n",
      "random number 67  <==update\n",
      "random number 25  <==update\n",
      "random number 51  <==update\n",
      "random number 41  <==update\n",
      "random number 82  <==update\n",
      "random number 80  <==update\n",
      "random number 4  <==update\n",
      "random number 41  <==update\n",
      "random number 31  <==update\n",
      "random number 37  <==update\n",
      "random number 30  <==update\n",
      "random number 85  <==update\n",
      "random number 61  <==update\n",
      "random number 9  <==update\n",
      "random number 83  <==update\n",
      "random number 44  <==update\n",
      "random number 38  <==update\n",
      "random number 29  <==update\n",
      "updates time 45\n",
      "last updated number :  29\n"
     ]
    }
   ],
   "source": [
    "#ass max number\n",
    "\n",
    "import random\n",
    "\n",
    "count = 0\n",
    "\n",
    "for i in range(1,100):\n",
    "    maxval = random.randint(1,100)\n",
    "    \n",
    "    if(maxval<i):\n",
    "        i = maxval\n",
    "        count+=1\n",
    "        if maxval \n",
    "        \n",
    "    print(\"random number\",maxval,\" <==update\")\n",
    "        \n",
    "print(\"updates time\",count)        \n",
    "print(\"last updated number : \",i)"
   ]
  },
  {
   "cell_type": "code",
   "execution_count": 56,
   "id": "185bab5d",
   "metadata": {},
   "outputs": [
    {
     "name": "stdout",
     "output_type": "stream",
     "text": [
      "ente the string : anante\n",
      "5\n"
     ]
    }
   ],
   "source": [
    "# search e index is given stringis first occurance e without any function\n",
    "\n",
    "str = input(\"ente the string : \")\n",
    "#print(str.find('t'))\n",
    "#print(str.index('t'))\n",
    "\n",
    "count = 0\n",
    "\n",
    "for i in range(0,len(str)):\n",
    "    if str[i]==\"e\":\n",
    "        print(i)\n",
    "    #print(str[i])\n",
    "    if(i>len(str)):\n",
    "        print(\"latter i not present\")\n",
    "\n",
    "\n",
    "\n"
   ]
  },
  {
   "cell_type": "code",
   "execution_count": 14,
   "id": "756141d0",
   "metadata": {},
   "outputs": [
    {
     "name": "stdout",
     "output_type": "stream",
     "text": [
      "enter the string  xyz\n",
      "yza"
     ]
    }
   ],
   "source": [
    "# Caesar Cipher incoding ecoding char to assci ascci to char\n",
    "\n",
    "str = input(\"enter the string  \")\n",
    "\n",
    "for i in range(0,len(str)):\n",
    "    asc = ord(str[i])\n",
    "    \n",
    "    asc_new=asc+1\n",
    "                                #print(asc_new,end=\"\")\n",
    "    b = asc_new\n",
    "\n",
    "    if b!=123:\n",
    "        \n",
    "        print(chr(b),end=\"\")\n",
    "    else:\n",
    "        b=97\n",
    "        print(chr(b),end=\"\")\n",
    "    \n",
    "    "
   ]
  },
  {
   "cell_type": "code",
   "execution_count": 55,
   "id": "f52857f3",
   "metadata": {},
   "outputs": [
    {
     "name": "stdout",
     "output_type": "stream",
     "text": [
      "enter the string  xyz\n",
      " \n",
      " \n",
      " \n",
      "b\n",
      "z\n"
     ]
    }
   ],
   "source": [
    "# Caesar Cipher incoding decoding char to assci and ascci to char\n",
    "\n",
    "str = input(\"enter the string  \")\n",
    "\n",
    "incrept_str = \"\"\n",
    "descript_str = \"\"\n",
    "\n",
    "for i in range(0,len(str)):\n",
    "    asc = ord(str[i])\n",
    "    \n",
    "    asc_new=asc+2\n",
    "    asc_dec = asc_new-2\n",
    "                                #print(asc_new,end=\"\")\n",
    "    b = asc_new\n",
    "    dec = asc_dec\n",
    "    \n",
    "    if asc >= 97 and b<=122 :\n",
    "        \n",
    "        #rint(chr(b))\n",
    "        incrept_str = chr(b)\n",
    "        \n",
    "    elif b>122:\n",
    "        new = b - 122-1\n",
    "        new_char = 97+new\n",
    "        \n",
    "        \n",
    "        #int(chr(new_char))\n",
    "        incrept_str = chr(new_char)\n",
    "\n",
    "    print(\" \")\n",
    "        \n",
    "    if asc >= 97 and asc<=122 :\n",
    "        \n",
    "        #int(chr(dec))\n",
    "        descript_str=chr(dec)\n",
    "    elif dec<97:\n",
    "        new_dec = 97 - dec\n",
    "        new_char_dec = 122-new_dec\n",
    "        \n",
    "        \n",
    "        #rint(chr(new_char_dec))\n",
    "        descript_str = chr(new_char_dec)\n",
    "print(incrept_str)\n",
    "print(descript_str)\n",
    "\n",
    "    "
   ]
  },
  {
   "cell_type": "code",
   "execution_count": 24,
   "id": "4f5ba473",
   "metadata": {},
   "outputs": [
    {
     "name": "stdout",
     "output_type": "stream",
     "text": [
      "enter the string  xyz\n",
      "zabbcc"
     ]
    }
   ],
   "source": [
    "# Caesar Cipher incoding ecoding char to assci ascci to char\n",
    "\n",
    "str = input(\"enter the string  \")\n",
    "\n",
    "for i in range(0,len(str)):\n",
    "    asc = ord(str[i])\n",
    "    \n",
    "    asc_new=asc+2\n",
    "                                #print(asc_new,end=\"\")\n",
    "    b = asc_new\n",
    "    \n",
    "    if asc >= 97 and b<=122 :\n",
    "        \n",
    "        print(chr(b),end=\"\")\n",
    "    elif b>122:\n",
    "        new = b - 122\n",
    "        new_char = 97+new\n",
    "        \n",
    "        print(chr(new_char),end=\"\")\n",
    "        \n",
    "    if asc >= 65 and b<=90 :\n",
    "        \n",
    "        print(chr(b),end=\"\")\n",
    "    elif b>90 and b<:\n",
    "        new = b - 90\n",
    "        new_char = 65+new\n",
    "        \n",
    "        print(chr(new_char),end=\"\")\n",
    "    \n",
    "    "
   ]
  },
  {
   "cell_type": "code",
   "execution_count": null,
   "id": "1305d70c",
   "metadata": {},
   "outputs": [],
   "source": [
    "\n",
    "\n",
    "\n"
   ]
  },
  {
   "cell_type": "code",
   "execution_count": 37,
   "id": "7f6fd86e",
   "metadata": {},
   "outputs": [
    {
     "name": "stdout",
     "output_type": "stream",
     "text": [
      "Enter the text to encrypt: xyz\n",
      "Enter the shift value for encryption: 2\n",
      "Encrypted Text: zab\n",
      "Decrypted Text: xyz\n"
     ]
    }
   ],
   "source": [
    "def main():\n",
    "    plaintext = input(\"Enter the text to encrypt: \")\n",
    "\n",
    "    while True:\n",
    "        shift_input = input(\"Enter the shift value for encryption: \")\n",
    "        try:\n",
    "            shift = int(shift_input)\n",
    "            break\n",
    "        except ValueError:\n",
    "            print(\"Invalid input. Please enter a valid integer for the shift value.\")\n",
    "\n",
    "    # Encryption\n",
    "    encrypted_text = encrypt(plaintext, shift)\n",
    "    print(\"Encrypted Text:\", encrypted_text)\n",
    "\n",
    "    # Decryption\n",
    "    decrypted_text = decrypt(encrypted_text, shift)\n",
    "    print(\"Decrypted Text:\", decrypted_text)\n",
    "\n",
    "if __name__ == \"__main__\":\n",
    "    main()\n"
   ]
  },
  {
   "cell_type": "code",
   "execution_count": 38,
   "id": "be5fe6ec",
   "metadata": {},
   "outputs": [
    {
     "name": "stdout",
     "output_type": "stream",
     "text": [
      "Enter the string to decode: xyz\n",
      "Enter the shift value for decryption: 2\n",
      "vwx"
     ]
    }
   ],
   "source": [
    "str = input(\"Enter the string to decode: \")\n",
    "shift_input = int(input(\"Enter the shift value for decryption: \"))\n",
    "\n",
    "for i in range(0, len(str)):\n",
    "    asc = ord(str[i])\n",
    "\n",
    "    asc_new = asc - shift_input  # Reverse the shift for decryption\n",
    "\n",
    "    if asc >= 97 and asc <= 122:\n",
    "        if asc_new < 97:  # Wrap around for lowercase letters\n",
    "            new = 97 - asc_new - 1\n",
    "            new_char = 122 - new\n",
    "            print(chr(new_char), end=\"\")\n",
    "        else:\n",
    "            print(chr(asc_new), end=\"\")\n",
    "    elif asc >= 65 and asc <= 90:  # Check for uppercase letters\n",
    "        if asc_new < 65:  # Wrap around for uppercase letters\n",
    "            new = 65 - asc_new - 1\n",
    "            new_char = 90 - new\n",
    "            print(chr(new_char), end=\"\")\n",
    "        else:\n",
    "            print(chr(asc_new), end=\"\")\n",
    "    else:\n",
    "        print(chr(asc), end=\"\")\n"
   ]
  },
  {
   "cell_type": "code",
   "execution_count": 47,
   "id": "6b92b56d",
   "metadata": {},
   "outputs": [
    {
     "name": "stdout",
     "output_type": "stream",
     "text": [
      "enter the string  xyz\n",
      "vwx"
     ]
    }
   ],
   "source": [
    "# Caesar Cipher incoding decoding char to assci and ascci to char\n",
    "\n",
    "str = input(\"enter the string  \")\n",
    "\n",
    "for i in range(0,len(str)):\n",
    "    asc = ord(str[i])\n",
    "    \n",
    "    #asc_new=asc+2\n",
    "    asc_dec = asc-2\n",
    "                                #print(asc_new,end=\"\")\n",
    "    #b = asc_new\n",
    "    dec = asc_dec\n",
    "    \n",
    "    if asc >= 97 and asc<=122 :\n",
    "        \n",
    "        print(chr(dec),end=\"\")\n",
    "    elif dec<97:\n",
    "        new_dec = 97 - dec\n",
    "        new_char_dec = 122-new_dec\n",
    "        \n",
    "        \n",
    "        print(chr(new_char_dec),end=\"\")\n",
    "    \n",
    "    "
   ]
  },
  {
   "cell_type": "code",
   "execution_count": 56,
   "id": "9de2457e",
   "metadata": {},
   "outputs": [
    {
     "name": "stdout",
     "output_type": "stream",
     "text": [
      "Enter the string: xyz\n",
      "Enter the shift value for encryption/decryption: 2\n",
      "Encrypted: zab\n",
      "Decrypted: xyz\n"
     ]
    }
   ],
   "source": [
    "def encrypt(input_string, shift):\n",
    "    encrypted_string = \"\"\n",
    "    for char in input_string:\n",
    "        asc = ord(char)\n",
    "        asc_new = asc + shift\n",
    "\n",
    "        if 97 <= asc <= 122:\n",
    "            if asc_new > 122:\n",
    "                new = asc_new - 122 - 1\n",
    "                new_char = 97 + new\n",
    "                encrypted_string += chr(new_char)\n",
    "            else:\n",
    "                encrypted_string += chr(asc_new)\n",
    "        else:\n",
    "            encrypted_string += char\n",
    "\n",
    "    return encrypted_string\n",
    "\n",
    "def decrypt(input_string, shift):\n",
    "    decrypted_string = \"\"\n",
    "    for char in input_string:\n",
    "        asc = ord(char)\n",
    "        asc_dec = asc - shift\n",
    "\n",
    "        if 97 <= asc <= 122:\n",
    "            if asc_dec < 97:\n",
    "                new_dec = 97 - asc_dec - 1\n",
    "                new_char_dec = 122 - new_dec\n",
    "                decrypted_string += chr(new_char_dec)\n",
    "            else:\n",
    "                decrypted_string += chr(asc_dec)\n",
    "        else:\n",
    "            decrypted_string += char\n",
    "\n",
    "    return decrypted_string\n",
    "\n",
    "input_string = input(\"Enter the string: \")\n",
    "shift_value = int(input(\"Enter the shift value for encryption/decryption: \"))\n",
    "\n",
    "# Encryption\n",
    "encrypted_result = encrypt(input_string, shift_value)\n",
    "print(\"Encrypted:\", encrypted_result)\n",
    "\n",
    "# Decryption\n",
    "decrypted_result = decrypt(encrypted_result, shift_value)\n",
    "print(\"Decrypted:\", decrypted_result)\n"
   ]
  },
  {
   "cell_type": "code",
   "execution_count": null,
   "id": "9e295d59",
   "metadata": {},
   "outputs": [],
   "source": []
  }
 ],
 "metadata": {
  "kernelspec": {
   "display_name": "Python 3 (ipykernel)",
   "language": "python",
   "name": "python3"
  },
  "language_info": {
   "codemirror_mode": {
    "name": "ipython",
    "version": 3
   },
   "file_extension": ".py",
   "mimetype": "text/x-python",
   "name": "python",
   "nbconvert_exporter": "python",
   "pygments_lexer": "ipython3",
   "version": "3.11.5"
  }
 },
 "nbformat": 4,
 "nbformat_minor": 5
}
