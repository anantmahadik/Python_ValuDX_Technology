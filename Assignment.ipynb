{
 "cells": [
  {
   "cell_type": "code",
   "execution_count": 4,
   "id": "65659943",
   "metadata": {},
   "outputs": [
    {
     "name": "stdout",
     "output_type": "stream",
     "text": [
      "enter width.52\n",
      "enter length3.0\n",
      "1.56\n"
     ]
    }
   ],
   "source": [
    "#assignment 1\n",
    "\n",
    "a=eval(input(\"enter width\"))\n",
    "b=eval(input(\"enter length\"))\n",
    "\n",
    "area=a*b\n",
    "\n",
    "print(area)\n",
    "\n"
   ]
  },
  {
   "cell_type": "code",
   "execution_count": 8,
   "id": "064cd01e",
   "metadata": {},
   "outputs": [
    {
     "name": "stdout",
     "output_type": "stream",
     "text": [
      "Enter the meal price :200\n",
      "i=orignal meal price : 164.0\n",
      "tax is : 36.0\n"
     ]
    }
   ],
   "source": [
    "# Assignment 2\n",
    "\n",
    "meal_price = eval(input(\"Enter the meal price :\"))\n",
    "\n",
    "tax = meal_price*0.18\n",
    "\n",
    "orignal_meal_price = meal_price - tax\n",
    "\n",
    "print(\"orignal meal price :\",orignal_meal_price)\n",
    "print(\"tax is :\",tax)"
   ]
  },
  {
   "cell_type": "code",
   "execution_count": 12,
   "id": "e669b5ca",
   "metadata": {},
   "outputs": [
    {
     "name": "stdout",
     "output_type": "stream",
     "text": [
      "value of a 24\n",
      "value of b 5343.98\n"
     ]
    }
   ],
   "source": [
    "# format\n",
    "\n",
    "a = 24\n",
    "b = 5343.98078\n",
    "b1=format(b,\".3f\")\n",
    "print(\"value of a {0}\".format(a))\n",
    "print('value of b {0:.2f}'.format(b))\n"
   ]
  },
  {
   "cell_type": "code",
   "execution_count": 24,
   "id": "15ae38df",
   "metadata": {},
   "outputs": [
    {
     "name": "stdout",
     "output_type": "stream",
     "text": [
      "Enter the username :anant\n",
      "Enter the password :anant\n",
      "username and pass is wrong\n"
     ]
    }
   ],
   "source": [
    "#write a pragram to check whether username and password is correct or not, if wrong password or username enteres show appropriate\n",
    "#message\n",
    "\n",
    "uname = \"anant_1\"\n",
    "password = \"anant@123\"\n",
    "\n",
    "user_name = input(\"Enter the username :\")\n",
    "user_pass = input(\"Enter the password :\")\n",
    "\n",
    "if(uname==user_name and password==user_pass):\n",
    "    print(\"username and pass is correct\")\n",
    "elif(uname!=user_name and password==user_pass):\n",
    "    print(\"username is wrong and pass is correct\")\n",
    "elif(uname==user_name and password!=user_pass):\n",
    "    print(\"username is correct and pass is wrong\")\n",
    "elif(uname!=user_name and password!=user_pass):\n",
    "    print(\"username and pass is wrong\")\n",
    "    \n",
    "\n",
    "\n"
   ]
  },
  {
   "cell_type": "code",
   "execution_count": 29,
   "id": "4cd3e8ef",
   "metadata": {},
   "outputs": [
    {
     "name": "stdout",
     "output_type": "stream",
     "text": [
      "Enter the username: anant\n",
      "Enter the password: anant@123\n",
      "Username or password is incorrect.\n",
      "Username is wrong, but password is correct.\n"
     ]
    }
   ],
   "source": [
    "#write a pragram to check whether username and password is correct or not, if wrong password or username enteres show appropriate\n",
    "#message\n",
    "\n",
    "# nested if\n",
    "\n",
    "uname = \"anant_1\"\n",
    "password = \"anant@123\"\n",
    "\n",
    "user_name = input(\"Enter the username: \")\n",
    "user_pass = input(\"Enter the password: \")\n",
    "\n",
    "if uname == user_name:\n",
    "    if password == user_pass:\n",
    "        print(\"Username and password are correct.\")\n",
    "    else:\n",
    "        print(\"Username is correct, but password is incorrect.\")\n",
    "else:\n",
    "    print(\"Username is incorrect.\")\n",
    "\n",
    "\n",
    "    \n",
    "\n"
   ]
  },
  {
   "cell_type": "code",
   "execution_count": 31,
   "id": "20f8e09a",
   "metadata": {},
   "outputs": [
    {
     "name": "stdout",
     "output_type": "stream",
     "text": [
      "Enter male or female:female\n",
      "Enter the age: 156\n",
      "Enter the hight: 156\n",
      "age is not match\n"
     ]
    }
   ],
   "source": [
    "# write a program for male female\n",
    "\n",
    "mf = input(\"Enter male or female:\")\n",
    "age = eval(input(\"Enter the age: \"))\n",
    "hight = eval(input(\"Enter the hight: \"))\n",
    "\n",
    "if mf== \"male\":\n",
    "    if age>=25 and age <= 30:\n",
    "        if hight>165:\n",
    "            print(\"candidates is criteria is match \")\n",
    "        else:\n",
    "            print(\"hight is not match\")\n",
    "    else:\n",
    "        print(\"age is not match\")\n",
    "        \n",
    "else:\n",
    "    if age>=20 and age <= 25:\n",
    "        if hight>155:\n",
    "            print(\"candidates is criteria is match \")\n",
    "        else:\n",
    "            print(\"hight is not match\")\n",
    "    else:\n",
    "        print(\"age is not match\")\n",
    "    "
   ]
  },
  {
   "cell_type": "code",
   "execution_count": 32,
   "id": "146c377b",
   "metadata": {},
   "outputs": [
    {
     "name": "stdout",
     "output_type": "stream",
     "text": [
      "curren date is  1703318298.048141\n",
      "today is  Sat Dec 23 13:28:18 2023\n",
      "expiry is  Sat Dec 23 14:28:18 2023\n"
     ]
    }
   ],
   "source": [
    "\n",
    "# current time and increase time in 1 hour\n",
    "import time\n",
    "\n",
    "print(\"curren date is \",time.time())\n",
    "\n",
    "current_date=time.time()\n",
    "\n",
    "expiry = current_date+3600\n",
    "\n",
    "print(\"today is \",time.ctime(time.time()))\n",
    "print(\"expiry is \",time.ctime(expiry))"
   ]
  },
  {
   "cell_type": "code",
   "execution_count": 39,
   "id": "09922a6f",
   "metadata": {},
   "outputs": [
    {
     "name": "stdout",
     "output_type": "stream",
     "text": [
      "Enter the how many hours you have park your car :5\n",
      "today is  Sat Dec 23 13:54:59 2023\n"
     ]
    },
    {
     "ename": "TypeError",
     "evalue": "can only concatenate str (not \"int\") to str",
     "output_type": "error",
     "traceback": [
      "\u001b[1;31m---------------------------------------------------------------------------\u001b[0m",
      "\u001b[1;31mTypeError\u001b[0m                                 Traceback (most recent call last)",
      "Cell \u001b[1;32mIn[39], line 9\u001b[0m\n\u001b[0;32m      7\u001b[0m sec \u001b[38;5;241m=\u001b[39m hours\u001b[38;5;241m*\u001b[39m\u001b[38;5;241m3600\u001b[39m\n\u001b[0;32m      8\u001b[0m \u001b[38;5;28mprint\u001b[39m(\u001b[38;5;124m\"\u001b[39m\u001b[38;5;124mtoday is \u001b[39m\u001b[38;5;124m\"\u001b[39m,time\u001b[38;5;241m.\u001b[39mctime(time\u001b[38;5;241m.\u001b[39mtime()))\n\u001b[1;32m----> 9\u001b[0m \u001b[38;5;28mprint\u001b[39m(\u001b[38;5;124m\"\u001b[39m\u001b[38;5;124mexpiry is \u001b[39m\u001b[38;5;124m\"\u001b[39m,time\u001b[38;5;241m.\u001b[39mctime()\u001b[38;5;241m+\u001b[39msec)\n\u001b[0;32m     11\u001b[0m \u001b[38;5;28;01mif\u001b[39;00m hours \u001b[38;5;241m<\u001b[39m\u001b[38;5;241m=\u001b[39m \u001b[38;5;241m2\u001b[39m:\n\u001b[0;32m     13\u001b[0m     \u001b[38;5;28mprint\u001b[39m(\u001b[38;5;124m\"\u001b[39m\u001b[38;5;124mcharges is : 20 rs\u001b[39m\u001b[38;5;124m\"\u001b[39m)\n",
      "\u001b[1;31mTypeError\u001b[0m: can only concatenate str (not \"int\") to str"
     ]
    }
   ],
   "source": [
    "# assignent parking charges calculator\n",
    "\n",
    "import time\n",
    "\n",
    "hours = eval(input(\"Enter the how many hours you have park your car :\"))\n",
    "\n",
    "sec = hours*3600\n",
    "print(\"today is \",time.ctime(time.time()))\n",
    "print(\"expiry is \",time.ctime()+sec)\n",
    "\n",
    "if hours <= 2:\n",
    "\n",
    "    print(\"charges is : 20 rs\")\n",
    "    \n",
    "if hours > 2 and hours <=4:\n",
    "\n",
    "        print(\"charges is : 40 rs\")\n",
    "        \n",
    "if hours > 2 and hours <=4:\n",
    "\n",
    "        print(\"charges is : 100 rs\")\n",
    "        \n",
    "\n",
    "        \n",
    "                   \n",
    "\n",
    "        \n",
    "            \n",
    "\n"
   ]
  },
  {
   "cell_type": "code",
   "execution_count": 42,
   "id": "32a40b7f",
   "metadata": {},
   "outputs": [
    {
     "name": "stdout",
     "output_type": "stream",
     "text": [
      "4\n",
      "2\n",
      "6\n"
     ]
    }
   ],
   "source": [
    "# ass throw 2 random value \n",
    "\n",
    "import random\n",
    "\n",
    "d1 = random.randint(1,6)\n",
    "d2 = random.randint(1,6)\n",
    "\n",
    "print(d1)\n",
    "print(d2)\n",
    "\n",
    "if d1 != d2:\n",
    "    print(d1+d2)\n",
    "\n",
    "if d1 == d2:\n",
    "    print(d1+d2)\n",
    "\n"
   ]
  },
  {
   "cell_type": "code",
   "execution_count": null,
   "id": "cc86be8b",
   "metadata": {},
   "outputs": [],
   "source": []
  },
  {
   "cell_type": "code",
   "execution_count": null,
   "id": "d8e7e189",
   "metadata": {},
   "outputs": [],
   "source": []
  }
 ],
 "metadata": {
  "kernelspec": {
   "display_name": "Python 3 (ipykernel)",
   "language": "python",
   "name": "python3"
  },
  "language_info": {
   "codemirror_mode": {
    "name": "ipython",
    "version": 3
   },
   "file_extension": ".py",
   "mimetype": "text/x-python",
   "name": "python",
   "nbconvert_exporter": "python",
   "pygments_lexer": "ipython3",
   "version": "3.11.5"
  }
 },
 "nbformat": 4,
 "nbformat_minor": 5
}
